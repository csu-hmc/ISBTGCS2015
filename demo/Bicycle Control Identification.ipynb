{
 "cells": [
  {
   "cell_type": "code",
   "execution_count": 1,
   "metadata": {
    "collapsed": false
   },
   "outputs": [],
   "source": [
    "import sympy as sm\n",
    "from sympy.physics.vector import init_vprinting\n",
    "import numpy as np\n",
    "import pandas as pd\n",
    "from opty.direct_collocation import Problem, ConstraintCollocator\n",
    "from opty.utils import parse_free"
   ]
  },
  {
   "cell_type": "code",
   "execution_count": 2,
   "metadata": {
    "collapsed": false
   },
   "outputs": [],
   "source": [
    "init_vprinting(use_latex='mathjax')"
   ]
  },
  {
   "cell_type": "code",
   "execution_count": 3,
   "metadata": {
    "collapsed": false
   },
   "outputs": [],
   "source": [
    "omega, zeta, k_delta, k_phi, k_phid, k_psi, t = sm.symbols('omega, zeta, k_delta, k_phi, k_dot_phi, k_psi, t') \n",
    "phi, delta, phid, deltad, psi, T_delta, Td_delta = [s(t) for s in sm.symbols('phi, delta, phi_d, delta_d, psi, T_delta, Td_delta', cls=sm.Function)]\n",
    "F, psi_c = [s(t) for s in sm.symbols('F, psi_c', cls=sm.Function)]"
   ]
  },
  {
   "cell_type": "code",
   "execution_count": 4,
   "metadata": {
    "collapsed": false
   },
   "outputs": [
    {
     "data": {
      "text/latex": [
       "$$\\left[\\begin{matrix}\\phi\\\\\\delta\\\\\\phi_{d}\\\\\\delta_{d}\\\\\\psi\\\\T_{\\delta}\\\\Td_{\\delta}\\end{matrix}\\right]$$"
      ],
      "text/plain": [
       "⎡ φ  ⎤\n",
       "⎢    ⎥\n",
       "⎢ δ  ⎥\n",
       "⎢    ⎥\n",
       "⎢φ_d ⎥\n",
       "⎢    ⎥\n",
       "⎢δ_d ⎥\n",
       "⎢    ⎥\n",
       "⎢ ψ  ⎥\n",
       "⎢    ⎥\n",
       "⎢T_δ ⎥\n",
       "⎢    ⎥\n",
       "⎣Td_δ⎦"
      ]
     },
     "execution_count": 4,
     "metadata": {},
     "output_type": "execute_result"
    }
   ],
   "source": [
    "x = sm.Matrix([phi, delta, phid, deltad, psi, T_delta, Td_delta])\n",
    "x"
   ]
  },
  {
   "cell_type": "code",
   "execution_count": 5,
   "metadata": {
    "collapsed": false
   },
   "outputs": [
    {
     "data": {
      "text/latex": [
       "$$\\left[\\begin{matrix}F\\\\\\psi_{c}\\end{matrix}\\right]$$"
      ],
      "text/plain": [
       "⎡ F ⎤\n",
       "⎢   ⎥\n",
       "⎣ψ_c⎦"
      ]
     },
     "execution_count": 5,
     "metadata": {},
     "output_type": "execute_result"
    }
   ],
   "source": [
    "u = sm.Matrix([F, psi_c])\n",
    "u"
   ]
  },
  {
   "cell_type": "code",
   "execution_count": 6,
   "metadata": {
    "collapsed": false
   },
   "outputs": [
    {
     "data": {
      "text/latex": [
       "$$\\left[\\begin{matrix}0 & 0 & 1 & 0 & 0 & 0 & 0\\\\0 & 0 & 0 & 1 & 0 & 0 & 0\\\\8.7171168 & -14.07978498 & -0.03225954 & -1.27710319 & 0 & 0 & 0\\\\4.31150902 & -18.75768104 & 2.16708013 & -6.14451442 & 0 & 0 & 0\\\\0 & 3.79338393922026 & 0 & 0.0535297612784408 & 0 & 0 & 0\\\\0 & 0 & 0 & 0 & 0 & 0 & 1\\\\- k_{\\delta} k_{dot \\phi} k_{\\phi} \\omega^{2} & - k_{\\delta} \\omega^{2} & - k_{\\delta} k_{dot \\phi} \\omega^{2} & 0 & - k_{\\delta} k_{dot \\phi} k_{\\phi} k_{\\psi} \\omega^{2} & - \\omega^{2} & - 2 \\omega \\zeta\\end{matrix}\\right]$$"
      ],
      "text/plain": [
       "⎡        0                  0                 1                 0             \n",
       "⎢                                                                             \n",
       "⎢        0                  0                 0                 1             \n",
       "⎢                                                                             \n",
       "⎢    8.7171168         -14.07978498      -0.03225954       -1.27710319        \n",
       "⎢                                                                             \n",
       "⎢    4.31150902        -18.75768104      2.16708013        -6.14451442        \n",
       "⎢                                                                             \n",
       "⎢        0           3.79338393922026         0         0.0535297612784408    \n",
       "⎢                                                                             \n",
       "⎢        0                  0                 0                 0             \n",
       "⎢                                                                             \n",
       "⎢                 2            2                     2                        \n",
       "⎣-k_δ⋅k_dot_φ⋅kᵩ⋅ω       -k_δ⋅ω        -k_δ⋅k_dot_φ⋅ω           0           -k\n",
       "\n",
       "        0              0     0   ⎤\n",
       "                                 ⎥\n",
       "        0              0     0   ⎥\n",
       "                                 ⎥\n",
       "        0              0     0   ⎥\n",
       "                                 ⎥\n",
       "        0              0     0   ⎥\n",
       "                                 ⎥\n",
       "        0              0     0   ⎥\n",
       "                                 ⎥\n",
       "        0              0     1   ⎥\n",
       "                                 ⎥\n",
       "                   2    2        ⎥\n",
       "_δ⋅k_dot_φ⋅kᵩ⋅k_ψ⋅ω   -ω   -2⋅ω⋅ζ⎦"
      ]
     },
     "execution_count": 6,
     "metadata": {},
     "output_type": "execute_result"
    }
   ],
   "source": [
    "A = sm.Matrix([[0, 0, 1, 0, 0, 0, 0],\n",
    "               [0, 0, 0, 1, 0, 0, 0],\n",
    "               [8.7171168 , -14.07978498,  -0.03225954,  -1.27710319, 0, 0, 0],\n",
    "               [4.31150902, -18.75768104,   2.16708013,  -6.14451442, 0, 0, 0],\n",
    "               [0, 3.7933839392202637, 0, 0.053529761278440759, 0, 0, 0],\n",
    "               [0, 0, 0, 0, 0, 0, 1],\n",
    "               [-omega**2 * k_delta * k_phid * k_phi,\n",
    "                -omega**2 * k_delta,\n",
    "                -omega**2 * k_delta * k_phid,\n",
    "                0,\n",
    "                -omega**2 * k_delta * k_phid * k_phi * k_psi,\n",
    "                -omega**2,\n",
    "                - 2 * omega * zeta]])\n",
    "A"
   ]
  },
  {
   "cell_type": "code",
   "execution_count": 7,
   "metadata": {
    "collapsed": false
   },
   "outputs": [
    {
     "data": {
      "text/latex": [
       "$$\\left[\\begin{matrix}0 & 0\\\\0 & 0\\\\0.00702997 & 0\\\\-0.00357233 & 0\\\\0 & 0\\\\0 & 0\\\\0 & k_{\\delta} k_{dot \\phi} k_{\\phi} k_{\\psi} \\omega^{2}\\end{matrix}\\right]$$"
      ],
      "text/plain": [
       "⎡     0                 0          ⎤\n",
       "⎢                                  ⎥\n",
       "⎢     0                 0          ⎥\n",
       "⎢                                  ⎥\n",
       "⎢0.00702997             0          ⎥\n",
       "⎢                                  ⎥\n",
       "⎢-0.00357233            0          ⎥\n",
       "⎢                                  ⎥\n",
       "⎢     0                 0          ⎥\n",
       "⎢                                  ⎥\n",
       "⎢     0                 0          ⎥\n",
       "⎢                                  ⎥\n",
       "⎢                                 2⎥\n",
       "⎣     0       k_δ⋅k_dot_φ⋅kᵩ⋅k_ψ⋅ω ⎦"
      ]
     },
     "execution_count": 7,
     "metadata": {},
     "output_type": "execute_result"
    }
   ],
   "source": [
    "B = sm.Matrix([[0, 0],\n",
    "               [0, 0],\n",
    "               [0.00702997, 0],\n",
    "               [-0.00357233, 0],\n",
    "               [0, 0],\n",
    "               [0, 0],\n",
    "               [0, omega**2 * k_delta * k_phid * k_phi * k_psi]])\n",
    "B"
   ]
  },
  {
   "cell_type": "code",
   "execution_count": 8,
   "metadata": {
    "collapsed": false
   },
   "outputs": [
    {
     "data": {
      "text/latex": [
       "$$\\left[\\begin{matrix}\\phi_{d}\\\\\\delta_{d}\\\\0.00702997 F - 14.07978498 \\delta - 1.27710319 \\delta_{d} + 8.7171168 \\phi - 0.03225954 \\phi_{d}\\\\- 0.00357233 F - 18.75768104 \\delta - 6.14451442 \\delta_{d} + 4.31150902 \\phi + 2.16708013 \\phi_{d}\\\\3.79338393922026 \\delta + 0.0535297612784408 \\delta_{d}\\\\Td_{\\delta}\\\\- k_{\\delta} k_{dot \\phi} k_{\\phi} k_{\\psi} \\omega^{2} \\psi + k_{\\delta} k_{dot \\phi} k_{\\phi} k_{\\psi} \\omega^{2} \\psi_{c} - k_{\\delta} k_{dot \\phi} k_{\\phi} \\omega^{2} \\phi - k_{\\delta} k_{dot \\phi} \\omega^{2} \\phi_{d} - k_{\\delta} \\omega^{2} \\delta - \\omega^{2} T_{\\delta} - 2 \\omega \\zeta Td_{\\delta}\\end{matrix}\\right]$$"
      ],
      "text/plain": [
       "⎡                                                               φ_d           \n",
       "⎢                                                                             \n",
       "⎢                                                               δ_d           \n",
       "⎢                                                                             \n",
       "⎢                          0.00702997⋅F - 14.07978498⋅δ - 1.27710319⋅δ_d + 8.7\n",
       "⎢                                                                             \n",
       "⎢                         -0.00357233⋅F - 18.75768104⋅δ - 6.14451442⋅δ_d + 4.3\n",
       "⎢                                                                             \n",
       "⎢                                           3.79338393922026⋅δ + 0.05352976127\n",
       "⎢                                                                             \n",
       "⎢                                                              Td_δ           \n",
       "⎢                                                                             \n",
       "⎢                      2                         2                       2    \n",
       "⎣- k_δ⋅k_dot_φ⋅kᵩ⋅k_ψ⋅ω ⋅ψ + k_δ⋅k_dot_φ⋅kᵩ⋅k_ψ⋅ω ⋅ψ_c - k_δ⋅k_dot_φ⋅kᵩ⋅ω ⋅φ -\n",
       "\n",
       "                                                    ⎤\n",
       "                                                    ⎥\n",
       "                                                    ⎥\n",
       "                                                    ⎥\n",
       "171168⋅φ - 0.03225954⋅φ_d                           ⎥\n",
       "                                                    ⎥\n",
       "1150902⋅φ + 2.16708013⋅φ_d                          ⎥\n",
       "                                                    ⎥\n",
       "84408⋅δ_d                                           ⎥\n",
       "                                                    ⎥\n",
       "                                                    ⎥\n",
       "                                                    ⎥\n",
       "              2            2      2                 ⎥\n",
       " k_δ⋅k_dot_φ⋅ω ⋅φ_d - k_δ⋅ω ⋅δ - ω ⋅T_δ - 2⋅ω⋅ζ⋅Td_δ⎦"
      ]
     },
     "execution_count": 8,
     "metadata": {},
     "output_type": "execute_result"
    }
   ],
   "source": [
    "xdot = A * x + B * u\n",
    "xdot"
   ]
  },
  {
   "cell_type": "code",
   "execution_count": 9,
   "metadata": {
    "collapsed": false
   },
   "outputs": [
    {
     "data": {
      "text/latex": [
       "$$\\left[\\begin{matrix}- \\phi_{d} + \\dot{\\phi}\\\\- \\delta_{d} + \\dot{\\delta}\\\\- 0.00702997 F + 14.07978498 \\delta + 1.27710319 \\delta_{d} - 8.7171168 \\phi + 0.03225954 \\phi_{d} + \\dot{\\phi}_{d}\\\\0.00357233 F + 18.75768104 \\delta + 6.14451442 \\delta_{d} - 4.31150902 \\phi - 2.16708013 \\phi_{d} + \\dot{\\delta}_{d}\\\\- 3.79338393922026 \\delta - 0.0535297612784408 \\delta_{d} + \\dot{\\psi}\\\\- Td_{\\delta} + \\dot{T}_{\\delta}\\\\k_{\\delta} k_{dot \\phi} k_{\\phi} k_{\\psi} \\omega^{2} \\psi - k_{\\delta} k_{dot \\phi} k_{\\phi} k_{\\psi} \\omega^{2} \\psi_{c} + k_{\\delta} k_{dot \\phi} k_{\\phi} \\omega^{2} \\phi + k_{\\delta} k_{dot \\phi} \\omega^{2} \\phi_{d} + k_{\\delta} \\omega^{2} \\delta + \\omega^{2} T_{\\delta} + 2 \\omega \\zeta Td_{\\delta} + \\dot{Td}_{\\delta}\\end{matrix}\\right]$$"
      ],
      "text/plain": [
       "⎡                                                               -φ_d + φ̇     \n",
       "⎢                                                                             \n",
       "⎢                                                               -δ_d + δ̇     \n",
       "⎢                                                                             \n",
       "⎢                         -0.00702997⋅F + 14.07978498⋅δ + 1.27710319⋅δ_d - 8.7\n",
       "⎢                                                                             \n",
       "⎢                         0.00357233⋅F + 18.75768104⋅δ + 6.14451442⋅δ_d - 4.31\n",
       "⎢                                                                             \n",
       "⎢                                           -3.79338393922026⋅δ - 0.0535297612\n",
       "⎢                                                                             \n",
       "⎢                                                             -Td_δ + T_̇δ    \n",
       "⎢                                                                             \n",
       "⎢                    2                         2                       2      \n",
       "⎣k_δ⋅k_dot_φ⋅kᵩ⋅k_ψ⋅ω ⋅ψ - k_δ⋅k_dot_φ⋅kᵩ⋅k_ψ⋅ω ⋅ψ_c + k_δ⋅k_dot_φ⋅kᵩ⋅ω ⋅φ + k\n",
       "\n",
       "                                                          ⎤\n",
       "                                                          ⎥\n",
       "                                                          ⎥\n",
       "                                                          ⎥\n",
       "171168⋅φ + 0.03225954⋅φ_d + φ_̇d                          ⎥\n",
       "                                                          ⎥\n",
       "150902⋅φ - 2.16708013⋅φ_d + δ_̇d                          ⎥\n",
       "                                                          ⎥\n",
       "784408⋅δ_d + ψ̇                                           ⎥\n",
       "                                                          ⎥\n",
       "                                                          ⎥\n",
       "                                                          ⎥\n",
       "            2            2      2                         ⎥\n",
       "_δ⋅k_dot_φ⋅ω ⋅φ_d + k_δ⋅ω ⋅δ + ω ⋅T_δ + 2⋅ω⋅ζ⋅Td_δ + Td_̇δ⎦"
      ]
     },
     "execution_count": 9,
     "metadata": {},
     "output_type": "execute_result"
    }
   ],
   "source": [
    "eom = x.diff() - xdot\n",
    "eom"
   ]
  },
  {
   "cell_type": "markdown",
   "metadata": {},
   "source": [
    "# Load in the measured data"
   ]
  },
  {
   "cell_type": "code",
   "execution_count": 10,
   "metadata": {
    "collapsed": false
   },
   "outputs": [
    {
     "data": {
      "text/plain": [
       "Unnamed: 0    8.625000e+03\n",
       "F            -1.235564e+00\n",
       "T_delta      -2.567393e-01\n",
       "Td_delta      2.360032e-02\n",
       "delta         4.625490e-03\n",
       "deltad        1.838603e-02\n",
       "phi          -4.607070e-03\n",
       "phid         -2.916783e-02\n",
       "psi           1.497926e-08\n",
       "time          4.312500e+01\n",
       "v             4.247635e+00\n",
       "dtype: float64"
      ]
     },
     "execution_count": 10,
     "metadata": {},
     "output_type": "execute_result"
    }
   ],
   "source": [
    "df = pd.read_csv('bicycle-measurements.csv')\n",
    "df.mean()"
   ]
  },
  {
   "cell_type": "markdown",
   "metadata": {},
   "source": [
    "# Construct the problem"
   ]
  },
  {
   "cell_type": "code",
   "execution_count": 11,
   "metadata": {
    "collapsed": false
   },
   "outputs": [
    {
     "data": {
      "text/latex": [
       "$$17251$$"
      ],
      "text/plain": [
       "17251"
      ]
     },
     "execution_count": 11,
     "metadata": {},
     "output_type": "execute_result"
    }
   ],
   "source": [
    "num_nodes = len(df)\n",
    "num_nodes"
   ]
  },
  {
   "cell_type": "code",
   "execution_count": 12,
   "metadata": {
    "collapsed": false
   },
   "outputs": [
    {
     "data": {
      "text/latex": [
       "$$0.005$$"
      ],
      "text/plain": [
       "0.005"
      ]
     },
     "execution_count": 12,
     "metadata": {},
     "output_type": "execute_result"
    }
   ],
   "source": [
    "interval = df['time'].diff().mean()\n",
    "interval"
   ]
  },
  {
   "cell_type": "code",
   "execution_count": 13,
   "metadata": {
    "collapsed": true
   },
   "outputs": [],
   "source": [
    "def obj(free):\n",
    "    \"\"\"Minimize the error in the angle, y1.\"\"\"\n",
    "    states, _, constants = parse_free(free, len(x), 0, num_nodes)\n",
    "    j = (interval * np.sum((df['phi'] - states[0])**2) +\n",
    "         interval * np.sum((df['delta'] - states[1])**2) +\n",
    "         interval * np.sum((df['phid'] - states[2])**2) +\n",
    "         interval * np.sum((df['deltad'] - states[3])**2) +\n",
    "         interval * np.sum((df['psi'] - states[4])**2) +\n",
    "         interval * np.sum((df['T_delta'] - states[5])**2) +\n",
    "         interval * np.sum((df['Td_delta'] - states[6])**2))\n",
    "    return j / 10000.0\n",
    "\n",
    "\n",
    "def obj_grad(free):\n",
    "    N = num_nodes\n",
    "    states, _, constants = parse_free(free, len(x), 0, num_nodes)\n",
    "    grad = np.zeros_like(free)\n",
    "    grad[0 * N:1 * N] = 2.0 * interval * (states[0] - df['phi'])\n",
    "    grad[1 * N:2 * N] = 2.0 * interval * (states[1] - df['delta'])\n",
    "    grad[2 * N:3 * N] = 2.0 * interval * (states[2] - df['phid'])\n",
    "    grad[3 * N:4 * N] = 2.0 * interval * (states[3] - df['deltad'])\n",
    "    grad[4 * N:5 * N] = 2.0 * interval * (states[4] - df['psi'])\n",
    "    grad[5 * N:6 * N] = 2.0 * interval * (states[5] - df['T_delta'])\n",
    "    grad[6 * N:7 * N] = 2.0 * interval * (states[6] - df['Td_delta'])\n",
    "    return grad / 10000.0"
   ]
  },
  {
   "cell_type": "code",
   "execution_count": 14,
   "metadata": {
    "collapsed": false
   },
   "outputs": [],
   "source": [
    "prob = Problem(obj,\n",
    "               obj_grad,\n",
    "               eom,\n",
    "               x[:],\n",
    "               num_nodes,\n",
    "               interval,\n",
    "               known_trajectory_map={F: df['F'].values,\n",
    "                                     psi_c: np.zeros(num_nodes)},\n",
    "              integration_method='midpoint')\n",
    "prob.addOption('linear_solver', 'ma57')"
   ]
  },
  {
   "cell_type": "code",
   "execution_count": 15,
   "metadata": {
    "collapsed": false
   },
   "outputs": [],
   "source": [
    "state_guess = df[['phi', 'delta', 'phid', 'deltad', 'psi', 'T_delta', 'Td_delta']].values.T.flatten()\n",
    "par_guess = np.array([20.0, -2.0, 3.0, 0.5, 30.0, 0.707])\n",
    "initial_guess = np.hstack((state_guess, par_guess))"
   ]
  },
  {
   "cell_type": "code",
   "execution_count": 16,
   "metadata": {
    "collapsed": false
   },
   "outputs": [
    {
     "data": {
      "text/latex": [
       "$$\\left ( 120763\\right )$$"
      ],
      "text/plain": [
       "(120763,)"
      ]
     },
     "execution_count": 16,
     "metadata": {},
     "output_type": "execute_result"
    }
   ],
   "source": [
    "initial_guess.shape"
   ]
  },
  {
   "cell_type": "code",
   "execution_count": 17,
   "metadata": {
    "collapsed": false
   },
   "outputs": [
    {
     "data": {
      "text/latex": [
       "$$120757$$"
      ],
      "text/plain": [
       "120757"
      ]
     },
     "execution_count": 17,
     "metadata": {},
     "output_type": "execute_result"
    }
   ],
   "source": [
    "7 * num_nodes"
   ]
  },
  {
   "cell_type": "code",
   "execution_count": 18,
   "metadata": {
    "collapsed": false
   },
   "outputs": [
    {
     "data": {
      "text/latex": [
       "$$\\left ( k_{\\delta}, \\quad k_{dot \\phi}, \\quad k_{\\phi}, \\quad k_{\\psi}, \\quad \\omega, \\quad \\zeta\\right )$$"
      ],
      "text/plain": [
       "(k_δ, k_dot_φ, kᵩ, k_ψ, ω, ζ)"
      ]
     },
     "execution_count": 18,
     "metadata": {},
     "output_type": "execute_result"
    }
   ],
   "source": [
    "prob.collocator.unknown_parameters"
   ]
  },
  {
   "cell_type": "code",
   "execution_count": 19,
   "metadata": {
    "collapsed": false
   },
   "outputs": [
    {
     "data": {
      "text/latex": [
       "$$120763$$"
      ],
      "text/plain": [
       "120763"
      ]
     },
     "execution_count": 19,
     "metadata": {},
     "output_type": "execute_result"
    }
   ],
   "source": [
    "prob.num_free"
   ]
  },
  {
   "cell_type": "code",
   "execution_count": 20,
   "metadata": {
    "collapsed": false
   },
   "outputs": [
    {
     "name": "stdout",
     "output_type": "stream",
     "text": [
      "1000 loops, best of 3: 1.44 ms per loop\n"
     ]
    }
   ],
   "source": [
    "%timeit prob.con(initial_guess)"
   ]
  },
  {
   "cell_type": "code",
   "execution_count": 21,
   "metadata": {
    "collapsed": false
   },
   "outputs": [
    {
     "name": "stdout",
     "output_type": "stream",
     "text": [
      "100 loops, best of 3: 5.37 ms per loop\n"
     ]
    }
   ],
   "source": [
    "%timeit prob.con_jac(initial_guess)"
   ]
  },
  {
   "cell_type": "code",
   "execution_count": 22,
   "metadata": {
    "collapsed": false
   },
   "outputs": [
    {
     "name": "stdout",
     "output_type": "stream",
     "text": [
      "100 loops, best of 3: 7.83 ms per loop\n"
     ]
    }
   ],
   "source": [
    "%timeit prob.obj(initial_guess)"
   ]
  },
  {
   "cell_type": "code",
   "execution_count": 23,
   "metadata": {
    "collapsed": false
   },
   "outputs": [
    {
     "name": "stdout",
     "output_type": "stream",
     "text": [
      "100 loops, best of 3: 5.46 ms per loop\n"
     ]
    }
   ],
   "source": [
    "%timeit prob.obj_grad(initial_guess)"
   ]
  },
  {
   "cell_type": "code",
   "execution_count": 24,
   "metadata": {
    "collapsed": false
   },
   "outputs": [],
   "source": [
    "solution, info = prob.solve(initial_guess)"
   ]
  },
  {
   "cell_type": "code",
   "execution_count": 25,
   "metadata": {
    "collapsed": false
   },
   "outputs": [
    {
     "data": {
      "text/plain": [
       "array([  4.21109045e-03,  -7.46315727e+03,  -2.56454287e+00,\n",
       "        -1.98214166e-02,   1.49002350e+01,   1.31316574e-01])"
      ]
     },
     "execution_count": 25,
     "metadata": {},
     "output_type": "execute_result"
    }
   ],
   "source": [
    "solution[-6:]"
   ]
  },
  {
   "cell_type": "code",
   "execution_count": 26,
   "metadata": {
    "collapsed": false
   },
   "outputs": [
    {
     "data": {
      "text/plain": [
       "array([ 20.   ,  -2.   ,   3.   ,   0.5  ,  30.   ,   0.707])"
      ]
     },
     "execution_count": 26,
     "metadata": {},
     "output_type": "execute_result"
    }
   ],
   "source": [
    "par_guess"
   ]
  },
  {
   "cell_type": "code",
   "execution_count": 27,
   "metadata": {
    "collapsed": true
   },
   "outputs": [],
   "source": [
    "states, _, constants = parse_free(solution, len(x), 0, num_nodes)"
   ]
  },
  {
   "cell_type": "code",
   "execution_count": 28,
   "metadata": {
    "collapsed": false
   },
   "outputs": [
    {
     "data": {
      "text/plain": [
       "array([  4.21109045e-03,  -7.46315727e+03,  -2.56454287e+00,\n",
       "        -1.98214166e-02,   1.49002350e+01,   1.31316574e-01])"
      ]
     },
     "execution_count": 28,
     "metadata": {},
     "output_type": "execute_result"
    }
   ],
   "source": [
    "constants"
   ]
  },
  {
   "cell_type": "code",
   "execution_count": 29,
   "metadata": {
    "collapsed": false
   },
   "outputs": [],
   "source": [
    "#%matplotlib\n",
    "import matplotlib.pyplot as plt"
   ]
  },
  {
   "cell_type": "code",
   "execution_count": 32,
   "metadata": {
    "collapsed": false
   },
   "outputs": [
    {
     "data": {
      "text/plain": [
       "[<matplotlib.lines.Line2D at 0x7f0523476310>,\n",
       " <matplotlib.lines.Line2D at 0x7f0523476550>]"
      ]
     },
     "execution_count": 32,
     "metadata": {},
     "output_type": "execute_result"
    }
   ],
   "source": [
    "plt.plot(df['time'], df['phi'], '.', df['time'], states[0])"
   ]
  },
  {
   "cell_type": "code",
   "execution_count": 33,
   "metadata": {
    "collapsed": true
   },
   "outputs": [],
   "source": [
    "plt.show()"
   ]
  },
  {
   "cell_type": "code",
   "execution_count": null,
   "metadata": {
    "collapsed": true
   },
   "outputs": [],
   "source": []
  }
 ],
 "metadata": {
  "kernelspec": {
   "display_name": "Python 2",
   "language": "python",
   "name": "python2"
  },
  "language_info": {
   "codemirror_mode": {
    "name": "ipython",
    "version": 2
   },
   "file_extension": ".py",
   "mimetype": "text/x-python",
   "name": "python",
   "nbconvert_exporter": "python",
   "pygments_lexer": "ipython2",
   "version": "2.7.10"
  }
 },
 "nbformat": 4,
 "nbformat_minor": 0
}

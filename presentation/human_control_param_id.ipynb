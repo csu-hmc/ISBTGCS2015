{
 "cells": [
  {
   "cell_type": "markdown",
   "metadata": {
    "slideshow": {
     "slide_type": "slide"
    }
   },
   "source": [
    "# Human Standing Control Parameter Identification with Direct Collocation\n",
    "\n",
    "Ton van den Bogert  \n",
    "Jason K. Moore\n",
    "<img width=300px src=\"NewCSU-stacked.svg\"/>\n",
    "\n",
    "\n",
    "July 10, 2015  \n",
    "ISB TGCS 2015, Edinburgh, UK"
   ]
  },
  {
   "cell_type": "markdown",
   "metadata": {
    "slideshow": {
     "slide_type": "slide"
    }
   },
   "source": [
    "# Parameter Identification Issues\n",
    "\n",
    "- Nonlinear (and some linear) systems may require computationally intensive minimization methods\n",
    "- Local minima are typical (requires superb guess)\n",
    "- Systems may be unstable"
   ]
  },
  {
   "cell_type": "markdown",
   "metadata": {
    "slideshow": {
     "slide_type": "subslide"
    }
   },
   "source": [
    "# Local minima: Simple pendulum\n",
    "\n",
    "<img style=\"float:right;\" src=\"pendulum-objective.png\" width=400px>\n",
    "\n",
    "## 1-DoF, 1 parameter pendulum equations of motion\n",
    "\n",
    "$\\dot{\\mathbf{x}} = \\begin{bmatrix} \\dot{\\theta}(t) \\\\ \\dot{\\omega}(t) \\end{bmatrix} = \\begin{bmatrix} \\omega(t) \\\\ -p \\sin{\\theta}(t) \\end{bmatrix}$\n",
    "\n",
    "## Objective: Minimize least squares\n",
    "\n",
    "$J(p) = \\min\\limits_{p} \\int_{t_0}^{t_f} [\\theta_m(t) - \\theta(\\mathbf{x}, p, t)]^2 dt$\n",
    "\n",
    "## References\n",
    "> Vyasarayani, Chandrika P., Thomas Uchida, Ashwin Carvalho, and John McPhee.\n",
    "\"Parameter Identification in Dynamic Systems Using the Homotopy Optimization\n",
    "Approach\". Multibody System Dynamics 26, no. 4 (2011): 411-24."
   ]
  },
  {
   "cell_type": "markdown",
   "metadata": {
    "slideshow": {
     "slide_type": "slide"
    }
   },
   "source": [
    "# Direct Collocation\n",
    "\n",
    "> Betts, J., and W. Huffman. “Large Scale Parameter Estimation Using Sparse Nonlinear Programming Methods.” SIAM Journal on Optimization 14, no. 1 (January 1, 2003): 223–44. doi:10.1137/S1052623401399216.\n",
    "\n",
    "## Benefits\n",
    "\n",
    "- Fast computation times\n",
    "- Handles unstable systems with ease\n",
    "- Less susceptible to local minima\n",
    "\n",
    "## Disadvantages\n",
    "\n",
    "- Exact solution requires large number of nodes\n",
    "- Tedious and error prone to form sparse gradients, Jacobians, and Hessians"
   ]
  },
  {
   "cell_type": "markdown",
   "metadata": {
    "slideshow": {
     "slide_type": "slide"
    }
   },
   "source": [
    "# Our Direct Collocation Implementation\n",
    "\n",
    "## First order discrete integration options:\n",
    "\n",
    "- Backward Euler: $\\frac{x_i - x_{i + 1}}{h} = f(x_i, t_i)$\n",
    "- Midpoint Rule: $\\frac{x_{i + 1} - x_i}{h} = f(\\frac{x_i + x_{i + 1}}{2}, t_i)$\n",
    "\n",
    "## Implicit Continous Equations of Motion\n",
    " \n",
    "$$0 = \\mathbf{f}(\\dot{\\mathbf{x}}, \\mathbf{x}, \\mathbf{r}, \\mathbf{p}, t)$$\n",
    "\n",
    "## Nonlinear Programming Formulation\n",
    " \n",
    "$$\\min\\limits_{\\theta} J(\\theta) \\textrm{ where } \\mathbf{\\theta} = [\\mathbf{x}, \\mathbf{r}, \\mathbf{p}]$$\n",
    "\n",
    "$$\\textrm{subject to } g(\\theta) = \\mathbf{f}(\\dot{\\mathbf{x}}, \\mathbf{x}, \\mathbf{r}, \\mathbf{p}, t) =0 \\textrm{ and } \\theta_L \\leq \\theta \\leq \\theta_U$$"
   ]
  },
  {
   "cell_type": "markdown",
   "metadata": {
    "slideshow": {
     "slide_type": "slide"
    }
   },
   "source": [
    "# Software Tool: opty\n",
    "\n",
    "- User specifies continous symbolic:\n",
    "  - objective\n",
    "  - equations of motion\n",
    "  - additional constraints\n",
    "- Effficient just-in-time compiled C code is generated for functions that evaluate:\n",
    "  - objective and its gradient\n",
    "  - constraints and its Jacobian\n",
    "- NLP problem automatically formed for IPOPT\n",
    "- Open source: BSD license\n",
    "- Written in Python\n",
    "- http://github.com/csu-hmc/opty\n"
   ]
  },
  {
   "cell_type": "markdown",
   "metadata": {
    "slideshow": {
     "slide_type": "subslide"
    }
   },
   "source": [
    "# Example: 1 DoF, 1 Parameter Pendulum\n",
    "Paraphrased from https://github.com/csu-hmc/opty/blob/master/examples/vyasarayani2011.py\n",
    "```python\n",
    "# Specify symbols for the parameters\n",
    "p, t = symbols('p, t')\n",
    "\n",
    "# Specify the functions of time\n",
    "theta, omega, theta_m = symbols('theta, omega, theta_m', cls=Function)\n",
    "\n",
    "# Specify the symbolic equations of motion\n",
    "eom = (Matrix([theta(t), omega(t)]).diff(t) - \n",
    "       Matrix([omega(t), -p * sin(theta(t))]))\n",
    "\n",
    "# Specify the symbolic objective function\n",
    "obj = Integral((theta_m(t) - theta(t))**2, t)\n",
    "\n",
    "# Choose discritzation values\n",
    "num_nodes = 1000\n",
    "interval = 0.01  # seconds\n",
    "\n",
    "# Form the problem\n",
    "prob = Problem(obj, eom, (theta(t), omega(t)), num_nodes, interval,\n",
    "               known_trajectory_map={y1_m(t): measured_data},\n",
    "               integration_method='midpoint')\n",
    "\n",
    "# Set and initial guess\n",
    "initial_guess = random(prob.num_free)\n",
    "\n",
    "# Solve the system\n",
    "solution, info = prob.solve(initial_guess)\n",
    "```"
   ]
  },
  {
   "cell_type": "markdown",
   "metadata": {
    "slideshow": {
     "slide_type": "slide"
    }
   },
   "source": [
    "# Computational Speed\n",
    "\n",
    "## Example Larger System\n",
    "\n",
    "- 11 DoF, 22 states, 22 parameters, 11 exogenous inputs\n",
    "- 12840 mathematical operations in constraint expressions\n",
    "\n",
    "## Discretization Variables\n",
    "\n",
    "- 10,000 collocation nodes\n",
    "- 219,978 constraints\n",
    "- 16,938,306 nonzero entries in the Jacobian\n",
    "- 330,022 free variables\n",
    "\n",
    "## Timings\n",
    "\n",
    "- Integrating with ODEPACK lsoda: **49.8 s**\n",
    "- Constraint evaluation: **25.9 ms (0.0259 s)**\n",
    "- Jacobian evaluation: **95.7 ms (0.0957 s)**"
   ]
  },
  {
   "cell_type": "markdown",
   "metadata": {
    "slideshow": {
     "slide_type": "slide"
    }
   },
   "source": [
    "# Case Study: Human Control Parameter Identification\n",
    "\n",
    "<div>\n",
    "  <h2>Plant</h2>\n",
    "  <img style=\"float:right;margin=5px;\" src=\"free-body-diagram.svg\" width=200px>\n",
    "  <ul style=\"display: inline;\">\n",
    "    <li>Torque driven two-link inverted pendulum with an accelerating base.</li> \n",
    "    <li>States: $\\mathbf{x}=[\\theta_a \\quad \\theta_h \\quad \\omega_a \\quad \\omega_h]^T$</li>\n",
    "    <li>Exogoneous inputs:\n",
    "      <ul>\n",
    "        <li>Controlled: $\\mathbf{r}_c = [T_a \\quad T_h]^T$</li>\n",
    "        <li>Specified: $\\mathbf{r}_k = [a]$</li>\n",
    "      </ul>\n",
    "    </li>\n",
    "    <li>Known parameters: $\\mathbf{p}_k$</li>\n",
    "  </ul>\n",
    "  <h3>Open Loop Equations of Motion</h3>\n",
    "  <p>$$\\dot{\\mathbf{x}} = \\mathbf{f}_o(\\mathbf{x}, \\mathbf{r}_c, \\mathbf{r}_k, \\mathbf{p}_k, t)$$</p>\n",
    "</div>"
   ]
  },
  {
   "cell_type": "markdown",
   "metadata": {
    "collapsed": true,
    "slideshow": {
     "slide_type": "subslide"
    }
   },
   "source": [
    "# Lumped Passive+Active Controller\n",
    "\n",
    "- True human controller is practically impossible to isolate and identify\n",
    "- Identify a controller for a similar system that causes the same behavior as the real system\n",
    "\n",
    "## Simple State Feedback\n",
    "\n",
    "$$\\mathbf{r}_c(t) = -\\mathbf{K}\\mathbf{x}(t)$$\n",
    "\n",
    "## Unknown Parameters\n",
    "\n",
    "$$\\mathbf{p}_u = \\mathrm{vec}(\\mathbf{K})$$\n",
    "\n",
    "## Closed Loop Equations of Motion\n",
    "\n",
    "$$\\dot{\\mathbf{x}} = \\mathbf{f}_c(\\mathbf{x}, \\mathbf{r}_k, \\mathbf{p}_k, \\mathbf{p}_u, t)$$"
   ]
  },
  {
   "cell_type": "markdown",
   "metadata": {
    "slideshow": {
     "slide_type": "subslide"
    }
   },
   "source": [
    "# Generate Data\n",
    "\n",
    "## Specify the psuedo-random platform acceleration\n",
    " \n",
    "$$a(t)=\\sum_{i=1}^{12} A_i\\sin(\\omega_i t)$$\n",
    "\n",
    "$\\omega_i$ spans human operating bandwidth: 0.15 rad/s to 15.0 rad/s.\n",
    "\n",
    "## Choose a stable controller\n",
    "\n",
    "$$\n",
    "\\mathbf{K} =\n",
    "\\begin{bmatrix}\n",
    "  950 & 175 & 185 & 50 \\\\\n",
    "  45 &  290 & 60 & 26\n",
    "\\end{bmatrix}\n",
    "$$\n",
    "\n",
    "## Simulate closed loop system under the influence of perturbations\n",
    " \n",
    "$$ \\mathbf{x} = \\int_{t_0}^{t_f} \\mathbf{f}_c(\\mathbf{x}, \\mathbf{r}_k, \\mathbf{p}_k, \\mathbf{p}_u, t) dt $$\n",
    "\n",
    "## Add Gaussian measurement noise\n",
    "\n",
    "$\\mathbf{x}_m(t) = \\mathbf{x}(t) + \\mathbf{v}_x(t)$\n",
    "\n",
    "$a_m(t) = a(t) + v_a(t)$"
   ]
  },
  {
   "cell_type": "markdown",
   "metadata": {
    "slideshow": {
     "slide_type": "subslide"
    }
   },
   "source": [
    "# Parameter Identification Problem Specification\n",
    "\n",
    "Given noisy measurements of the states, $\\mathbf{x}_m$, and the platform acceleration can we identify the controller parameters $\\mathbf{K}$?\n",
    "\n",
    "Objective:\n",
    "\n",
    "$$ J(\\mathbf{p}_u) = \\int [\\mathbf{x}_m(t) - \\mathbf{x}(t)]^2 dt$$\n",
    "\n",
    "subject to:\n",
    "\n",
    "$$ \\mathbf{x}(t) = \\int \\mathbf{f}_c(\\mathbf{x}, a_m, \\mathbf{p}_k, \\mathbf{p}_u, t) dt $$"
   ]
  },
  {
   "cell_type": "markdown",
   "metadata": {
    "slideshow": {
     "slide_type": "subslide"
    }
   },
   "source": [
    "The NLP objective is then:\n",
    "\n",
    "$$J(\\mathbf{\\theta}) = \\sum_{i=1}^N h [\\mathbf{x}_{mi} - \\mathbf{x}_i]^2$$\n",
    "\n",
    "where\n",
    "\n",
    "$$ \\mathbf{\\theta} = [\\mathbf{x}, \\mathbf{p}_u] $$\n",
    "\n",
    "Subject to the constraints:\n",
    "\n",
    "$$\\mathbf{g}(\\mathbf{\\theta}) = 0 = \\mathbf{f}_c(\\mathbf{x}, a_{m}, \\mathbf{p}_u)$$\n",
    "\n",
    "And the initial guess:\n",
    "\n",
    "$$\\mathbf{\\theta}_0 = [\\mathbf{x}_m, \\mathbf{0}]$$\n",
    "\n",
    "For, $N$ = 6000:\n",
    "\n",
    "- 24012 free variables\n",
    "- 384000 no-zero entries in the Jacobian"
   ]
  },
  {
   "cell_type": "markdown",
   "metadata": {
    "slideshow": {
     "slide_type": "slide"
    }
   },
   "source": [
    "# Results\n",
    "\n",
    "Converges in 11 iterations in 2.8 seconds of computation time.\n",
    "\n",
    "<table border=\"1\" class=\"dataframe\">\n",
    "  <thead>\n",
    "    <tr style=\"text-align: right;\">\n",
    "      <th></th>\n",
    "      <th>Known</th>\n",
    "      <th>Identified</th>\n",
    "      <th>Error</th>\n",
    "    </tr>\n",
    "  </thead>\n",
    "  <tbody>\n",
    "    <tr>\n",
    "      <th>$k_{00}$</th>\n",
    "      <td>950</td>\n",
    "      <td>946</td>\n",
    "      <td>-0.4%</td>\n",
    "    </tr>\n",
    "    <tr>\n",
    "      <th>$k_{01}$</th>\n",
    "      <td>175</td>\n",
    "      <td>177</td>\n",
    "      <td>1.4%</td>\n",
    "    </tr>\n",
    "    <tr>\n",
    "      <th>$k_{02}$</th>\n",
    "      <td>185</td>\n",
    "      <td>185</td>\n",
    "      <td>-0.2%</td>\n",
    "    </tr>\n",
    "    <tr>\n",
    "      <th>$k_{03}$</th>\n",
    "      <td>50</td>\n",
    "      <td>55</td>\n",
    "      <td>9.4%</td>\n",
    "    </tr>\n",
    "    <tr>\n",
    "      <th>$k_{10}$</th>\n",
    "      <td>45</td>\n",
    "      <td>45</td>\n",
    "      <td>1.1%</td>\n",
    "    </tr>\n",
    "    <tr>\n",
    "      <th>$k_{11}$</th>\n",
    "      <td>290</td>\n",
    "      <td>289</td>\n",
    "      <td>-0.3%</td>\n",
    "    </tr>\n",
    "    <tr>\n",
    "      <th>$k_{12}$</th>\n",
    "      <td>60</td>\n",
    "      <td>59</td>\n",
    "      <td>-2.1%</td>\n",
    "    </tr>\n",
    "    <tr>\n",
    "      <th>$k_{13}$</th>\n",
    "      <td>26</td>\n",
    "      <td>27</td>\n",
    "      <td>4.2%</td>\n",
    "    </tr>\n",
    "  </tbody>\n",
    "</table>\n"
   ]
  },
  {
   "cell_type": "markdown",
   "metadata": {
    "collapsed": true,
    "slideshow": {
     "slide_type": "subslide"
    }
   },
   "source": [
    "# Identified State Trajectories\n",
    "\n",
    "![](trajectory-comparison.png)"
   ]
  },
  {
   "cell_type": "markdown",
   "metadata": {
    "slideshow": {
     "slide_type": "slide"
    }
   },
   "source": [
    "# Conclusion\n",
    "\n",
    "- Direct collocation is suitable for biomechanical parameter identification\n",
    "- Computation speeds are orders of magnitude faster than shooting\n",
    "- Parameter identification accuracy improves with # nodes\n",
    "- Complex problems can be solved with few lines of code and high level mathematical abstractions"
   ]
  }
 ],
 "metadata": {
  "celltoolbar": "Slideshow",
  "kernelspec": {
   "display_name": "Python 2",
   "language": "python",
   "name": "python2"
  },
  "language_info": {
   "codemirror_mode": {
    "name": "ipython",
    "version": 2
   },
   "file_extension": ".py",
   "mimetype": "text/x-python",
   "name": "python",
   "nbconvert_exporter": "python",
   "pygments_lexer": "ipython2",
   "version": "2.7.10"
  }
 },
 "nbformat": 4,
 "nbformat_minor": 0
}
